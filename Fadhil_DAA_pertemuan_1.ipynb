{
  "nbformat": 4,
  "nbformat_minor": 0,
  "metadata": {
    "colab": {
      "provenance": [],
      "authorship_tag": "ABX9TyNNbZj1SJPX8RhRwbIGSaDt",
      "include_colab_link": true
    },
    "kernelspec": {
      "name": "python3",
      "display_name": "Python 3"
    },
    "language_info": {
      "name": "python"
    }
  },
  "cells": [
    {
      "cell_type": "markdown",
      "metadata": {
        "id": "view-in-github",
        "colab_type": "text"
      },
      "source": [
        "<a href=\"https://colab.research.google.com/github/Hangkerrr/Fadhil_DAA/blob/main/Fadhil_DAA_pertemuan_1.ipynb\" target=\"_parent\"><img src=\"https://colab.research.google.com/assets/colab-badge.svg\" alt=\"Open In Colab\"/></a>"
      ]
    },
    {
      "cell_type": "code",
      "execution_count": null,
      "metadata": {
        "colab": {
          "base_uri": "https://localhost:8080/"
        },
        "id": "tQaqYpKaQyiN",
        "outputId": "4648efd8-d573-41c3-a2b4-80d5ff6d8a82"
      },
      "outputs": [
        {
          "output_type": "stream",
          "name": "stdout",
          "text": [
            "Masukkan angka pertama: 100\n",
            "Masukkan angka kedua: 2\n",
            "Angka terbesar adalah: 100.0\n"
          ]
        }
      ],
      "source": [
        "angka1 = float(input(\"Masukkan angka pertama: \"))\n",
        "angka2 = float(input(\"Masukkan angka kedua: \"))\n",
        "\n",
        "if angka1 > angka2:\n",
        "    print(\"Angka terbesar adalah:\", angka1)\n",
        "\n",
        "elif angka2 > angka1:\n",
        "    print(\"Angka terbesar adalah:\", angka2)\n",
        "\n",
        "else:\n",
        "    print(\"Kedua angka sama besar:\", angka1)\n"
      ]
    }
  ]
}