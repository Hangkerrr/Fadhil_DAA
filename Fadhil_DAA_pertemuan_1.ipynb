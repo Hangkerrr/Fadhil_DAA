angka1 = float(input("Masukkan angka pertama: "))
angka2 = float(input("Masukkan angka kedua: "))

if angka1 > angka2:
    print("Angka terbesar adalah:", angka1)

elif angka2 > angka1:
    print("Angka terbesar adalah:", angka2)

else:
    print("Kedua angka sama besar:", angka1)
